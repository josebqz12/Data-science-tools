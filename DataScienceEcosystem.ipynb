{
 "cells": [
  {
   "cell_type": "markdown",
   "id": "0e3c43b3-381e-40d3-be7f-0d37f3162707",
   "metadata": {},
   "source": [
    "# Data Science Tools and Ecosystem"
   ]
  },
  {
   "cell_type": "markdown",
   "id": "77fcb5ea-961f-4c69-8696-f35251f689d3",
   "metadata": {},
   "source": [
    "In this notebook, Data Science Tools and Ecosystem are summarized."
   ]
  },
  {
   "cell_type": "markdown",
   "id": "59710934-a21d-4494-80d1-e92380e7fe61",
   "metadata": {
    "tags": []
   },
   "source": [
    "**Objectives:**\n",
    "- List popular languages for data science\n",
    "- List popular libraries for data science\n",
    "- List popular development environments for data science\n",
    "- Do some arithmetic expressions"
   ]
  },
  {
   "cell_type": "markdown",
   "id": "755902db-8b62-43db-8d54-03cf929b7b57",
   "metadata": {
    "tags": []
   },
   "source": [
    "Some of the popular languages that Data Scientists use are:\n",
    "1. Python\n",
    "2. R\n",
    "3. SQL"
   ]
  },
  {
   "cell_type": "markdown",
   "id": "0b1ed446-ea5a-4163-b4a0-0b85d78175c6",
   "metadata": {},
   "source": [
    "Some of the commonly used libraries used by Data Scientists include:\n",
    "1. Scikit-learn\n",
    "2. Matplotlib\n",
    "3. Pandas"
   ]
  },
  {
   "cell_type": "markdown",
   "id": "83751405-d13e-48d3-81bd-a8ad572564ea",
   "metadata": {},
   "source": [
    "Data science tools |\n",
    "------------------\n",
    "|Jupyter |\n",
    "| Apache zepelin |\n",
    "| Rstudio   |\n"
   ]
  },
  {
   "cell_type": "markdown",
   "id": "bbb4f231-8423-4dd8-acc5-035e78d96934",
   "metadata": {},
   "source": [
    "### Below are a few examples of evaluating arithmetic expressions in Python:\n"
   ]
  },
  {
   "cell_type": "code",
   "execution_count": 3,
   "id": "8f9c569f-73fb-4ca4-963f-078fe2fa2c89",
   "metadata": {
    "tags": []
   },
   "outputs": [
    {
     "data": {
      "text/plain": [
       "17"
      ]
     },
     "execution_count": 3,
     "metadata": {},
     "output_type": "execute_result"
    }
   ],
   "source": [
    "# This a simple arithmetic expression to mutiply then add integers\n",
    "(3*4)+5"
   ]
  },
  {
   "cell_type": "code",
   "execution_count": 4,
   "id": "b50c2afe-746b-4af2-a120-c6f74c3b85f0",
   "metadata": {
    "tags": []
   },
   "outputs": [
    {
     "data": {
      "text/plain": [
       "3.3333333333333335"
      ]
     },
     "execution_count": 4,
     "metadata": {},
     "output_type": "execute_result"
    }
   ],
   "source": [
    "# This will convert 200 minutes to hours by diving by 60\n",
    "200/60"
   ]
  },
  {
   "cell_type": "markdown",
   "id": "aa153b88-a1df-41ab-8514-c0cb5875ae25",
   "metadata": {},
   "source": [
    "## Author:\n",
    "Jose Carlos Bojorquez"
   ]
  },
  {
   "cell_type": "code",
   "execution_count": null,
   "id": "053002d2-9267-4435-8cd0-0927e5d8a7ca",
   "metadata": {},
   "outputs": [],
   "source": []
  }
 ],
 "metadata": {
  "kernelspec": {
   "display_name": "Python 3 (ipykernel)",
   "language": "python",
   "name": "python3"
  },
  "language_info": {
   "codemirror_mode": {
    "name": "ipython",
    "version": 3
   },
   "file_extension": ".py",
   "mimetype": "text/x-python",
   "name": "python",
   "nbconvert_exporter": "python",
   "pygments_lexer": "ipython3",
   "version": "3.11.5"
  }
 },
 "nbformat": 4,
 "nbformat_minor": 5
}
